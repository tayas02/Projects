{
  "nbformat": 4,
  "nbformat_minor": 0,
  "metadata": {
    "colab": {
      "provenance": []
    },
    "kernelspec": {
      "name": "python3",
      "display_name": "Python 3"
    },
    "language_info": {
      "name": "python"
    }
  },
  "cells": [
    {
      "cell_type": "code",
      "execution_count": null,
      "metadata": {
        "id": "znfqV-o9ozVK"
      },
      "outputs": [],
      "source": [
        "%pip install -q transformers"
      ]
    },
    {
      "cell_type": "markdown",
      "source": [
        "Choosing Model"
      ],
      "metadata": {
        "id": "mop0EyLjo7L5"
      }
    },
    {
      "cell_type": "code",
      "source": [
        "from sentence_transformers import SentenceTransformer\n",
        "model = SentenceTransformer(\"abhinand/MedEmbed-base-v0.1\")"
      ],
      "metadata": {
        "id": "gQOn6DKdpHP7"
      },
      "execution_count": null,
      "outputs": []
    },
    {
      "cell_type": "code",
      "source": [
        "from sentence_transformers import util\n",
        "sentences = [\n",
        "    \"What are the symptoms of diabetes?\",\n",
        "    \"Diabetes symptoms include increased thirst and frequent urination.\",\n",
        "    \"Hypertension is often called the silent killer.\",\n",
        "    \"Increased blood sugar is a common indicator of diabetes.\",\n",
        "    \"Smoking causes cancer.\",\n",
        "    \"Smoking kills,\"\n",
        "]\n",
        "embeddings = model.encode(sentences)\n",
        "similarities = util.cos_sim(embeddings, embeddings)\n",
        "print(\"Cosine Similarity Matrix:\")\n",
        "print(similarities)"
      ],
      "metadata": {
        "colab": {
          "base_uri": "https://localhost:8080/"
        },
        "id": "QuDiEEc1pQH0",
        "outputId": "7d56a34e-0773-4b98-fede-9de96b66acb7"
      },
      "execution_count": null,
      "outputs": [
        {
          "output_type": "stream",
          "name": "stdout",
          "text": [
            "Cosine Similarity Matrix:\n",
            "tensor([[1.0000, 0.8373, 0.5017, 0.7146, 0.4323, 0.4423],\n",
            "        [0.8373, 1.0000, 0.5188, 0.7441, 0.4777, 0.4419],\n",
            "        [0.5017, 0.5188, 1.0000, 0.6368, 0.5931, 0.6668],\n",
            "        [0.7146, 0.7441, 0.6368, 1.0000, 0.6027, 0.5534],\n",
            "        [0.4323, 0.4777, 0.5931, 0.6027, 1.0000, 0.7779],\n",
            "        [0.4423, 0.4419, 0.6668, 0.5534, 0.7779, 1.0000]])\n"
          ]
        }
      ]
    },
    {
      "cell_type": "markdown",
      "source": [
        "Evaluating This Embedding Model"
      ],
      "metadata": {
        "id": "whQEC2w2sG2b"
      }
    },
    {
      "cell_type": "code",
      "source": [
        "import numpy as np\n",
        "queries = [\n",
        "    \"What are the symptoms of diabetes?\",\n",
        "    \"How is hypertension diagnosed?\"\n",
        "    \"What are the effects of smoking?\",\n",
        "]\n",
        "candidates = [\n",
        "    \"Diabetes symptoms include increased thirst and frequent urination.\",\n",
        "    \"Hypertension is often called the silent killer.\",\n",
        "    \"Blood pressure measurements help diagnose hypertension.\",\n",
        "    \"Increased blood sugar is a common indicator of diabetes.\",\n",
        "    \"Smoking causes lung cancer.\",\n",
        "    \"Smoking is often called the silent killer.\",\n",
        "]\n",
        "ground_truth = [\n",
        "    [0, 3],\n",
        "    [1, 2],\n",
        "    [4, 5],\n",
        "]\n",
        "query_embeddings = model.encode(queries)\n",
        "candidate_embeddings = model.encode(candidates)\n",
        "similarity_matrix = util.cos_sim(query_embeddings, candidate_embeddings).numpy()\n",
        "mrr_scores = []\n",
        "for i, query_similarities in enumerate(similarity_matrix):\n",
        "\n",
        "    ranked_indices = np.argsort(query_similarities)[::-1]\n",
        "    reciprocal_rank = 0\n",
        "    for rank, idx in enumerate(ranked_indices, start=1):\n",
        "        if idx in ground_truth[i]:\n",
        "            reciprocal_rank = 1 / rank\n",
        "            break\n",
        "    mrr_scores.append(reciprocal_rank)\n",
        "mrr = np.mean(mrr_scores)\n",
        "print(f\"MRR: {mrr:.4f}\")"
      ],
      "metadata": {
        "colab": {
          "base_uri": "https://localhost:8080/"
        },
        "id": "m9Tx9-p_rAQc",
        "outputId": "0d974918-43cb-4aa2-cb9b-aafbbb08335e"
      },
      "execution_count": null,
      "outputs": [
        {
          "output_type": "stream",
          "name": "stdout",
          "text": [
            "MRR: 1.0000\n"
          ]
        }
      ]
    },
    {
      "cell_type": "markdown",
      "source": [
        "Ground Truth Cross Evaluation"
      ],
      "metadata": {
        "id": "kUDbkJbSyCAU"
      }
    },
    {
      "cell_type": "code",
      "source": [
        "queries = [\n",
        "    \"What are the symptoms of diabetes?\",\n",
        "]\n",
        "candidates = [\n",
        "    \"Diabetes symptoms include increased thirst and frequent urination.\",\n",
        "    \"Hypertension is often called the silent killer.\",\n",
        "    \"Blood pressure measurements help diagnose hypertension.\",\n",
        "    \"Increased blood sugar is a common indicator of diabetes.\",\n",
        "    \"Smoking causes lung cancer.\",\n",
        "    \"Smoking is often called the silent killer.\",\n",
        "]\n",
        "query_embeddings = model.encode(queries)\n",
        "candidate_embeddings = model.encode(candidates)\n",
        "similarity_matrix = util.cos_sim(query_embeddings, candidate_embeddings).numpy()\n",
        "similarity_threshold = 0.6\n",
        "ground_truth = []\n",
        "for i, query_similarities in enumerate(similarity_matrix):\n",
        "    relevant_indices = [\n",
        "        idx for idx, similarity in enumerate(query_similarities) if similarity >= similarity_threshold\n",
        "    ]\n",
        "    ground_truth.append(relevant_indices)\n",
        "print(\"Automatically Derived Ground Truth:\", ground_truth)\n",
        "mrr_scores = []\n",
        "for i, query_similarities in enumerate(similarity_matrix):\n",
        "    ranked_indices = np.argsort(query_similarities)[::-1]\n",
        "    reciprocal_rank = 0\n",
        "    for rank, idx in enumerate(ranked_indices, start=1):\n",
        "        if idx in ground_truth[i]:\n",
        "            reciprocal_rank = 1 / rank\n",
        "            break\n",
        "    mrr_scores.append(reciprocal_rank)\n",
        "\n",
        "mrr = np.mean(mrr_scores)\n",
        "print(f\"MRR: {mrr:.4f}\")"
      ],
      "metadata": {
        "colab": {
          "base_uri": "https://localhost:8080/"
        },
        "id": "W5IWPhG2wiKj",
        "outputId": "7f568f65-6935-475c-b53d-5a3e3a876938"
      },
      "execution_count": null,
      "outputs": [
        {
          "output_type": "stream",
          "name": "stdout",
          "text": [
            "Automatically Derived Ground Truth: [[0, 3], [1, 2], [4, 5]]\n",
            "MRR: 1.0000\n"
          ]
        }
      ]
    },
    {
      "cell_type": "code",
      "source": [
        "queries = [\n",
        "    \"What are the symptoms of diabetes?\",\n",
        "]\n",
        "candidates = [\n",
        "    \"Diabetes symptoms include increased thirst and frequent urination.\",\n",
        "    \"Hypertension is often called the silent killer.\",\n",
        "    \"Blood pressure measurements help diagnose hypertension.\",\n",
        "    \"Increased blood sugar is a common indicator of diabetes.\",\n",
        "    \"Smoking causes lung cancer.\",\n",
        "    \"Smoking is often called the silent killer.\",\n",
        "]\n",
        "query_embeddings = model.encode(queries)\n",
        "candidate_embeddings = model.encode(candidates)\n",
        "similarity_matrix = util.cos_sim(query_embeddings, candidate_embeddings).numpy()\n",
        "similarity_threshold = 0.6\n",
        "ground_truth = []\n",
        "for i, query_similarities in enumerate(similarity_matrix):\n",
        "    relevant_indices = [\n",
        "        idx for idx, similarity in enumerate(query_similarities) if similarity >= similarity_threshold\n",
        "    ]\n",
        "    ground_truth.append(relevant_indices)\n",
        "print(\"Automatically Derived Ground Truth:\", ground_truth)\n",
        "mrr_scores = []\n",
        "for i, query_similarities in enumerate(similarity_matrix):\n",
        "    ranked_indices = np.argsort(query_similarities)[::-1]\n",
        "    reciprocal_rank = 0\n",
        "    for rank, idx in enumerate(ranked_indices, start=1):\n",
        "        if idx in ground_truth[i]:\n",
        "            reciprocal_rank = 1 / rank\n",
        "            break\n",
        "    mrr_scores.append(reciprocal_rank)\n",
        "\n",
        "mrr = np.mean(mrr_scores)\n",
        "print(f\"MRR: {mrr:.4f}\")"
      ],
      "metadata": {
        "colab": {
          "base_uri": "https://localhost:8080/"
        },
        "id": "soI5d3wWzv5d",
        "outputId": "29110ac7-df46-4a57-ca87-3e69e3703f9e"
      },
      "execution_count": null,
      "outputs": [
        {
          "output_type": "stream",
          "name": "stdout",
          "text": [
            "Automatically Derived Ground Truth: [[0, 3]]\n",
            "MRR: 1.0000\n"
          ]
        }
      ]
    },
    {
      "cell_type": "code",
      "source": [
        "queries = [\n",
        "    \"Define Hypertension?\",\n",
        "]\n",
        "candidates = [\n",
        "    \"Diabetes symptoms include increased thirst and frequent urination.\",\n",
        "    \"Hypertension is often called the silent killer.\",\n",
        "    \"Blood pressure measurements help diagnose hypertension.\",\n",
        "    \"Increased blood sugar is a common indicator of diabetes.\",\n",
        "    \"Smoking causes lung cancer.\",\n",
        "    \"Smoking is often called the silent killer.\",\n",
        "]\n",
        "reference = [\n",
        "    \"Diabetes symptoms include increased thirst and frequent urination\",\n",
        "]\n",
        "query_embeddings = model.encode(queries)\n",
        "candidate_embeddings = model.encode(candidates)\n",
        "ground_truth_embeddings = model.encode(reference)\n",
        "similarity_matrix = util.cos_sim(query_embeddings, candidate_embeddings).numpy()\n",
        "mrr_scores = []\n",
        "for i, query_similarities in enumerate(similarity_matrix):\n",
        "    ranked_indices = np.argsort(query_similarities)[::-1]\n",
        "    reciprocal_rank = 0\n",
        "\n",
        "    for rank, idx in enumerate(ranked_indices, start=1):\n",
        "        candidate_text = candidates[idx]\n",
        "        candidate_embedding = candidate_embeddings[idx]\n",
        "\n",
        "        ground_truth_similarity = util.cos_sim(candidate_embedding, ground_truth_embeddings[i]).item()\n",
        "        if ground_truth_similarity > 0.9:\n",
        "            reciprocal_rank = 1 / rank\n",
        "            break\n",
        "\n",
        "    mrr_scores.append(reciprocal_rank)\n",
        "\n",
        "mrr = np.mean(mrr_scores)\n",
        "print(f\"MRR: {mrr:.4f}\")\n",
        "\n",
        "similarity_matrix = util.cos_sim(query_embeddings, candidate_embeddings).numpy()\n",
        "similarity_threshold = 0.6\n",
        "ground_truth = []\n",
        "for i, query_similarities in enumerate(similarity_matrix):\n",
        "    relevant_indices = [\n",
        "        idx for idx, similarity in enumerate(query_similarities) if similarity >= similarity_threshold\n",
        "    ]\n",
        "    ground_truth.append(relevant_indices)\n",
        "print(\"Automatically Derived Ground Truth:\", ground_truth)\n",
        "mrr_scores = []\n",
        "for i, query_similarities in enumerate(similarity_matrix):\n",
        "    ranked_indices = np.argsort(query_similarities)[::-1]\n",
        "    reciprocal_rank = 0\n",
        "    for rank, idx in enumerate(ranked_indices, start=1):\n",
        "        if idx in ground_truth[i]:\n",
        "            reciprocal_rank = 1 / rank\n",
        "            break\n",
        "    mrr_scores.append(reciprocal_rank)\n",
        "\n",
        "mrr = np.mean(mrr_scores)\n",
        "print(f\"MRR: {mrr:.4f}\")"
      ],
      "metadata": {
        "colab": {
          "base_uri": "https://localhost:8080/"
        },
        "id": "wqIoFHcHDTPS",
        "outputId": "229d027f-a628-4634-b919-680a089f2171"
      },
      "execution_count": null,
      "outputs": [
        {
          "output_type": "stream",
          "name": "stdout",
          "text": [
            "MRR: 0.2000\n",
            "Automatically Derived Ground Truth: [[1, 2]]\n",
            "MRR: 1.0000\n"
          ]
        }
      ]
    },
    {
      "cell_type": "code",
      "source": [
        "queries = [\n",
        "    \"What are the procedure for autopsy?\",\n",
        "]\n",
        "candidates = [\n",
        "    \"3-month-old baby died suddenly at night while asleep.\",\n",
        "    \"His mother noticed that he had died only after she awoke in the morning. No cause of death was determined based on the autopsy.\",\n",
        "]\n",
        "reference = [\n",
        "    \"Placing the infant in a supine position on a firm mattress while sleeping\",\n",
        "]\n",
        "query_embeddings = model.encode(queries)\n",
        "candidate_embeddings = model.encode(candidates)\n",
        "ground_truth_embeddings = model.encode(reference)\n",
        "similarity_matrix = util.cos_sim(query_embeddings, candidate_embeddings).numpy()\n",
        "mrr_scores = []\n",
        "for i, query_similarities in enumerate(similarity_matrix):\n",
        "    ranked_indices = np.argsort(query_similarities)[::-1]\n",
        "    reciprocal_rank = 0\n",
        "\n",
        "    for rank, idx in enumerate(ranked_indices, start=1):\n",
        "        candidate_text = candidates[idx]\n",
        "        candidate_embedding = candidate_embeddings[idx]\n",
        "\n",
        "        ground_truth_similarity = util.cos_sim(candidate_embedding, ground_truth_embeddings[i]).item()\n",
        "        if ground_truth_similarity > 0.9:\n",
        "            reciprocal_rank = 1 / rank\n",
        "            break\n",
        "\n",
        "    mrr_scores.append(reciprocal_rank)\n",
        "\n",
        "mrr = np.mean(mrr_scores)\n",
        "\n",
        "similarity_matrix = util.cos_sim(query_embeddings, candidate_embeddings).numpy()\n",
        "similarity_threshold = 0.6\n",
        "ground_truth = []\n",
        "for i, query_similarities in enumerate(similarity_matrix):\n",
        "    relevant_indices = [\n",
        "        idx for idx, similarity in enumerate(query_similarities) if similarity >= similarity_threshold\n",
        "    ]\n",
        "    ground_truth.append(relevant_indices)\n",
        "print(\"Automatically Derived Ground Truth:\", ground_truth)\n",
        "mrr_scores = []\n",
        "for i, query_similarities in enumerate(similarity_matrix):\n",
        "    ranked_indices = np.argsort(query_similarities)[::-1]\n",
        "    reciprocal_rank = 0\n",
        "    for rank, idx in enumerate(ranked_indices, start=1):\n",
        "        if idx in ground_truth[i]:\n",
        "            reciprocal_rank = 1 / rank\n",
        "            break\n",
        "    mrr_scores.append(reciprocal_rank)\n",
        "\n",
        "mrr = np.mean(mrr_scores)\n",
        "print(f\"MRR: {mrr:.4f}\")"
      ],
      "metadata": {
        "colab": {
          "base_uri": "https://localhost:8080/"
        },
        "id": "dD60mNh9DTxh",
        "outputId": "b41a8623-9f9d-4f1b-a8ca-a7e15a32a1ba"
      },
      "execution_count": null,
      "outputs": [
        {
          "output_type": "stream",
          "name": "stdout",
          "text": [
            "Automatically Derived Ground Truth: [[1]]\n",
            "MRR: 1.0000\n"
          ]
        }
      ]
    },
    {
      "cell_type": "markdown",
      "source": [
        "Evaluation with NDCG and Recall"
      ],
      "metadata": {
        "id": "uw2jdGKaN5Qk"
      }
    },
    {
      "cell_type": "code",
      "source": [
        "\n",
        "queries = [\n",
        "    \"What are the symptoms of diabetes?\",\n",
        "]\n",
        "candidates = [\n",
        "    \"Diabetes symptoms include increased thirst and frequent urination.\",\n",
        "    \"Hypertension is often called the silent killer.\",\n",
        "    \"Blood pressure measurements help diagnose hypertension.\",\n",
        "    \"Increased blood sugar is a common indicator of diabetes.\",\n",
        "    \"Smoking causes lung cancer.\",\n",
        "    \"Smoking is often called the silent killer.\",\n",
        "]\n",
        "query_embeddings = model.encode(queries)\n",
        "candidate_embeddings = model.encode(candidates)\n",
        "similarity_matrix = util.cos_sim(query_embeddings, candidate_embeddings).numpy()\n",
        "\n",
        "similarity_threshold = 0.6\n",
        "ground_truth = []\n",
        "for i, query_similarities in enumerate(similarity_matrix):\n",
        "    relevant_indices = [\n",
        "        idx for idx, similarity in enumerate(query_similarities) if similarity >= similarity_threshold\n",
        "    ]\n",
        "    ground_truth.append(relevant_indices)\n",
        "\n",
        "print(\"Automatically Derived Ground Truth:\", ground_truth)\n",
        "\n",
        "mrr_scores = []\n",
        "ndcg_scores = []\n",
        "recall_scores = []\n",
        "\n",
        "for i, query_similarities in enumerate(similarity_matrix):\n",
        "    ranked_indices = np.argsort(query_similarities)[::-1]\n",
        "    reciprocal_rank = 0\n",
        "    dcg = 0\n",
        "    ideal_dcg = 0\n",
        "    relevant_count = 0\n",
        "\n",
        "    for rank, idx in enumerate(ranked_indices, start=1):\n",
        "        relevance = 1 if idx in ground_truth[i] else 0\n",
        "        dcg += relevance / np.log2(rank + 1)\n",
        "        if relevance == 1:\n",
        "            relevant_count += 1\n",
        "\n",
        "    ideal_dcg = 0\n",
        "    for rank, idx in enumerate(sorted(ground_truth[i], key=lambda idx: query_similarities[idx], reverse=True), start=1):\n",
        "        relevance = 1\n",
        "        ideal_dcg += relevance / np.log2(rank + 1)\n",
        "\n",
        "    ndcg = dcg / ideal_dcg if ideal_dcg > 0 else 0\n",
        "    ndcg_scores.append(ndcg)\n",
        "\n",
        "    for rank, idx in enumerate(ranked_indices, start=1):\n",
        "        if idx in ground_truth[i]:\n",
        "            reciprocal_rank = 1 / rank\n",
        "            break\n",
        "    mrr_scores.append(reciprocal_rank)\n",
        "\n",
        "    recall = relevant_count / len(ground_truth[i]) if len(ground_truth[i]) > 0 else 0\n",
        "    recall_scores.append(recall)\n",
        "\n",
        "mrr = np.mean(mrr_scores)\n",
        "ndcg = np.mean(ndcg_scores)\n",
        "recall = np.mean(recall_scores)\n",
        "\n",
        "print(f\"MRR: {mrr:.4f}\")\n",
        "print(f\"NDCG: {ndcg:.4f}\")\n",
        "print(f\"Recall: {recall:.4f}\")\n"
      ],
      "metadata": {
        "colab": {
          "base_uri": "https://localhost:8080/"
        },
        "id": "jI1CGnIbN7xA",
        "outputId": "e8e9fc34-8e58-4bc0-96be-ba506662156e"
      },
      "execution_count": null,
      "outputs": [
        {
          "output_type": "stream",
          "name": "stdout",
          "text": [
            "Automatically Derived Ground Truth: [[0, 3]]\n",
            "MRR: 1.0000\n",
            "NDCG: 1.0000\n",
            "Recall: 1.0000\n"
          ]
        }
      ]
    },
    {
      "cell_type": "markdown",
      "source": [
        "Mytryoshka Training"
      ],
      "metadata": {
        "id": "zRBamuYBgHQ9"
      }
    },
    {
      "cell_type": "code",
      "source": [
        "!pip install dataset"
      ],
      "metadata": {
        "id": "6qxS-ZB-jRFT"
      },
      "execution_count": null,
      "outputs": []
    },
    {
      "cell_type": "code",
      "source": [
        "import torch\n",
        "import torch.nn as nn\n",
        "import torch.nn.functional as F\n",
        "from torch.utils.data import DataLoader\n",
        "from sentence_transformers import SentenceTransformer, InputExample\n",
        "from tqdm import tqdm\n",
        "\n",
        "class MytryoshkaLoss(nn.Module):\n",
        "    def __init__(self, margin: float = 0.2):\n",
        "        super(MytryoshkaLoss, self).__init__()\n",
        "        self.margin = margin\n",
        "\n",
        "    def forward(self, query_embeddings, positive_embeddings, negative_embeddings):\n",
        "        positive_similarity = F.cosine_similarity(query_embeddings, positive_embeddings)\n",
        "        negative_similarity = F.cosine_similarity(query_embeddings, negative_embeddings)\n",
        "        loss = torch.relu(self.margin + negative_similarity - positive_similarity)\n",
        "        return loss.mean()\n",
        "\n",
        "def collate_fn(batch):\n",
        "    queries = [item.texts[0] for item in batch]\n",
        "    positives = [item.texts[1] for item in batch]\n",
        "    negatives = [item.texts[2] for item in batch]\n",
        "\n",
        "    query_emb = model.encode(queries, convert_to_tensor=True, convert_to_numpy=False)\n",
        "    pos_emb = model.encode(positives, convert_to_tensor=True, convert_to_numpy=False)\n",
        "    neg_emb = model.encode(negatives, convert_to_tensor=True, convert_to_numpy=False)\n",
        "\n",
        "    query_emb.requires_grad_()\n",
        "    pos_emb.requires_grad_()\n",
        "    neg_emb.requires_grad_()\n",
        "\n",
        "    return query_emb, pos_emb, neg_emb\n",
        "\n",
        "model = SentenceTransformer(\"abhinand/MedEmbed-base-v0.1\")\n",
        "\n",
        "queries = [\"What are the symptoms of diabetes?\"]\n",
        "candidates = [\n",
        "    \"Diabetes symptoms include increased thirst and frequent urination.\",\n",
        "    \"Hypertension is often called the silent killer.\",\n",
        "    \"Blood pressure measurements help diagnose hypertension.\",\n",
        "    \"Increased blood sugar is a common indicator of diabetes.\",\n",
        "    \"Smoking causes lung cancer.\",\n",
        "    \"Smoking is often called the silent killer.\",\n",
        "]\n",
        "\n",
        "query_embeddings = model.encode(queries, convert_to_tensor=True, convert_to_numpy=False)\n",
        "candidate_embeddings = model.encode(candidates, convert_to_tensor=True, convert_to_numpy=False)\n",
        "\n",
        "similarity_matrix = torch.mm(query_embeddings, candidate_embeddings.T).cpu().numpy()\n",
        "similarity_threshold = 0.6\n",
        "ground_truth = [\n",
        "    [idx for idx, sim in enumerate(similarity_matrix[0]) if sim >= similarity_threshold]\n",
        "]\n",
        "print(\"Automatically Derived Ground Truth:\", ground_truth)\n",
        "\n",
        "train_examples = []\n",
        "for i, query in enumerate(queries):\n",
        "    positives = [candidates[idx] for idx in ground_truth[i]]\n",
        "    negatives = [candidates[idx] for idx in range(len(candidates)) if idx not in ground_truth[i]]\n",
        "    for pos in positives:\n",
        "        for neg in negatives:\n",
        "            train_examples.append(InputExample(texts=[query, pos, neg]))\n",
        "\n",
        "train_dataloader = DataLoader(train_examples, shuffle=True, batch_size=8, collate_fn=collate_fn)\n",
        "\n",
        "optimizer = torch.optim.AdamW(model.parameters(), lr=1e-5)\n",
        "loss_function = MytryoshkaLoss(margin=0.2)\n",
        "\n",
        "model.train()\n",
        "epochs = 1\n",
        "\n",
        "for epoch in range(epochs):\n",
        "    print(f\"Epoch {epoch + 1}\")\n",
        "    epoch_loss = 0\n",
        "    for batch in tqdm(train_dataloader, desc=\"Training\"):\n",
        "        query_emb, pos_emb, neg_emb = batch\n",
        "        loss = loss_function(query_emb, pos_emb, neg_emb)\n",
        "        optimizer.zero_grad()\n",
        "        loss.backward()\n",
        "        optimizer.step()\n",
        "\n",
        "        epoch_loss += loss.item()\n",
        "\n",
        "    print(f\"Epoch {epoch + 1} Loss: {epoch_loss:.4f}\")\n",
        "model.save(\"my_model_output\")\n"
      ],
      "metadata": {
        "colab": {
          "base_uri": "https://localhost:8080/"
        },
        "id": "QahtolxXjCGd",
        "outputId": "e4c5bcdd-5f73-4cc9-c5b0-1b748590631d"
      },
      "execution_count": null,
      "outputs": [
        {
          "output_type": "stream",
          "name": "stdout",
          "text": [
            "Automatically Derived Ground Truth: [[0, 3]]\n",
            "Epoch 1\n"
          ]
        },
        {
          "output_type": "stream",
          "name": "stderr",
          "text": [
            "Training: 100%|██████████| 1/1 [00:01<00:00,  1.32s/it]\n"
          ]
        },
        {
          "output_type": "stream",
          "name": "stdout",
          "text": [
            "Epoch 1 Loss: 0.0000\n"
          ]
        }
      ]
    },
    {
      "cell_type": "markdown",
      "source": [
        "Evaluating with MRR, NDCG, and *Recall*"
      ],
      "metadata": {
        "id": "ZENt6UIOnVE1"
      }
    },
    {
      "cell_type": "code",
      "source": [
        "import numpy as np\n",
        "import torch\n",
        "model = SentenceTransformer(\"my_model_output\")\n",
        "\n",
        "def evaluate_model(queries, candidates, ground_truth, model):\n",
        "    query_embeddings = model.encode(queries, convert_to_tensor=True, convert_to_numpy=False)\n",
        "    candidate_embeddings = model.encode(candidates, convert_to_tensor=True, convert_to_numpy=False)\n",
        "\n",
        "    similarity_matrix = torch.mm(query_embeddings, candidate_embeddings.T).cpu().numpy()\n",
        "\n",
        "    mrr_scores = []\n",
        "    ndcg_scores = []\n",
        "    recall_scores = []\n",
        "\n",
        "    for i, query_similarities in enumerate(similarity_matrix):\n",
        "        ranked_indices = np.argsort(query_similarities)[::-1]\n",
        "        reciprocal_rank = 0\n",
        "        dcg = 0\n",
        "        ideal_dcg = 0\n",
        "        relevant_count = 0\n",
        "\n",
        "        for rank, idx in enumerate(ranked_indices, start=1):\n",
        "            relevance = 1 if idx in ground_truth[i] else 0\n",
        "            dcg += relevance / np.log2(rank + 1)\n",
        "            if relevance == 1:\n",
        "                relevant_count += 1\n",
        "\n",
        "        ideal_dcg = 0\n",
        "        for rank, idx in enumerate(sorted(ground_truth[i], key=lambda idx: query_similarities[idx], reverse=True), start=1):\n",
        "            relevance = 1\n",
        "            ideal_dcg += relevance / np.log2(rank + 1)\n",
        "\n",
        "        ndcg = dcg / ideal_dcg if ideal_dcg > 0 else 0\n",
        "        ndcg_scores.append(ndcg)\n",
        "\n",
        "        for rank, idx in enumerate(ranked_indices, start=1):\n",
        "            if idx in ground_truth[i]:\n",
        "                reciprocal_rank = 1 / rank\n",
        "                break\n",
        "        mrr_scores.append(reciprocal_rank)\n",
        "\n",
        "        recall = relevant_count / len(ground_truth[i]) if len(ground_truth[i]) > 0 else 0\n",
        "        recall_scores.append(recall)\n",
        "\n",
        "    mrr = np.mean(mrr_scores)\n",
        "    ndcg = np.mean(ndcg_scores)\n",
        "    recall = np.mean(recall_scores)\n",
        "\n",
        "    return mrr, ndcg, recall\n",
        "\n",
        "mrr, ndcg, recall = evaluate_model(queries, candidates, ground_truth, model)\n",
        "\n",
        "print(f\"MRR: {mrr:.4f}\")\n",
        "print(f\"NDCG: {ndcg:.4f}\")\n",
        "print(f\"Recall: {recall:.4f}\")\n"
      ],
      "metadata": {
        "colab": {
          "base_uri": "https://localhost:8080/"
        },
        "id": "mOu34FcOl-bc",
        "outputId": "43f3a915-f5a0-4767-f4eb-b796846b71c1"
      },
      "execution_count": null,
      "outputs": [
        {
          "output_type": "stream",
          "name": "stdout",
          "text": [
            "MRR: 1.0000\n",
            "NDCG: 1.0000\n",
            "Recall: 1.0000\n"
          ]
        }
      ]
    }
  ]
}